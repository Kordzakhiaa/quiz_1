{
 "cells": [
  {
   "cell_type": "code",
   "execution_count": 1,
   "metadata": {
    "collapsed": true,
    "ExecuteTime": {
     "end_time": "2023-10-27T17:03:29.786331218Z",
     "start_time": "2023-10-27T17:03:29.271980893Z"
    }
   },
   "outputs": [],
   "source": [
    "import numpy\n",
    "import pandas as pd\n",
    "import matplotlib.pyplot as plt\n"
   ]
  },
  {
   "cell_type": "code",
   "execution_count": 2,
   "outputs": [],
   "source": [
    "# Import the pandas library and use the 'read_csv' function to read data from a CSV file.\n",
    "# 'survey_results_public.csv' is the name of the CSV file containing survey data.\n",
    "# The data is read and stored in a pandas DataFrame called 'df'.\n",
    "\n",
    "df = pd.read_csv('survey_results_public.csv')\n"
   ],
   "metadata": {
    "collapsed": false,
    "ExecuteTime": {
     "end_time": "2023-10-27T17:03:33.046135418Z",
     "start_time": "2023-10-27T17:03:31.555674466Z"
    }
   }
  },
  {
   "cell_type": "code",
   "execution_count": 3,
   "outputs": [
    {
     "data": {
      "text/plain": "                       MainBranch              Age  \\\n0                   None of these  18-24 years old   \n1  I am a developer by profession  25-34 years old   \n2  I am a developer by profession  45-54 years old   \n3  I am a developer by profession  25-34 years old   \n4  I am a developer by profession  25-34 years old   \n\n                                          Employment                   Country  \n0                                                NaN                       NaN  \n1                                Employed, full-time  United States of America  \n2                                Employed, full-time  United States of America  \n3                                Employed, full-time  United States of America  \n4  Employed, full-time;Independent contractor, fr...               Philippines  ",
      "text/html": "<div>\n<style scoped>\n    .dataframe tbody tr th:only-of-type {\n        vertical-align: middle;\n    }\n\n    .dataframe tbody tr th {\n        vertical-align: top;\n    }\n\n    .dataframe thead th {\n        text-align: right;\n    }\n</style>\n<table border=\"1\" class=\"dataframe\">\n  <thead>\n    <tr style=\"text-align: right;\">\n      <th></th>\n      <th>MainBranch</th>\n      <th>Age</th>\n      <th>Employment</th>\n      <th>Country</th>\n    </tr>\n  </thead>\n  <tbody>\n    <tr>\n      <th>0</th>\n      <td>None of these</td>\n      <td>18-24 years old</td>\n      <td>NaN</td>\n      <td>NaN</td>\n    </tr>\n    <tr>\n      <th>1</th>\n      <td>I am a developer by profession</td>\n      <td>25-34 years old</td>\n      <td>Employed, full-time</td>\n      <td>United States of America</td>\n    </tr>\n    <tr>\n      <th>2</th>\n      <td>I am a developer by profession</td>\n      <td>45-54 years old</td>\n      <td>Employed, full-time</td>\n      <td>United States of America</td>\n    </tr>\n    <tr>\n      <th>3</th>\n      <td>I am a developer by profession</td>\n      <td>25-34 years old</td>\n      <td>Employed, full-time</td>\n      <td>United States of America</td>\n    </tr>\n    <tr>\n      <th>4</th>\n      <td>I am a developer by profession</td>\n      <td>25-34 years old</td>\n      <td>Employed, full-time;Independent contractor, fr...</td>\n      <td>Philippines</td>\n    </tr>\n  </tbody>\n</table>\n</div>"
     },
     "execution_count": 3,
     "metadata": {},
     "output_type": "execute_result"
    }
   ],
   "source": [
    "# Using the 'loc' function of pandas to extract specific rows and columns from the DataFrame 'df'.\n",
    "# Rows from index 0 to 4 (inclusive) and columns 'MainBranch', 'Age', 'Employment', and 'Country' are selected.\n",
    "# The extracted data is stored in a new DataFrame called 'desired_data'.\n",
    "\n",
    "desired_data = df.loc[:4, ['MainBranch', 'Age', 'Employment', 'Country']]\n",
    "desired_data\n"
   ],
   "metadata": {
    "collapsed": false,
    "ExecuteTime": {
     "end_time": "2023-10-27T17:03:34.443633596Z",
     "start_time": "2023-10-27T17:03:34.430934699Z"
    }
   }
  },
  {
   "cell_type": "code",
   "execution_count": 4,
   "outputs": [],
   "source": [
    "# Set the 'ResponseId' column as the index of the DataFrame 'df' in-place.\n",
    "# This means 'ResponseId' will become the new index for the DataFrame.\n",
    "\n",
    "df.set_index('ResponseId', inplace=True)\n"
   ],
   "metadata": {
    "collapsed": false,
    "ExecuteTime": {
     "end_time": "2023-10-27T17:03:35.344955830Z",
     "start_time": "2023-10-27T17:03:35.342225405Z"
    }
   }
  },
  {
   "cell_type": "code",
   "execution_count": 5,
   "outputs": [],
   "source": [
    "# Create filters to select specific rows based on conditions.\n",
    "# 'age_filter' filters rows where 'Age' column has the value '45-54 years old'.\n",
    "# 'main_branch_filter' filters rows where 'MainBranch' column has the value 'I am a developer by profession'.\n",
    "# 'employment_filter' filters rows where 'Employment' column has the value 'Employed, full-time'.\n",
    "\n",
    "age_filter = df['Age'] == '45-54 years old'\n",
    "main_branch_filter = df['MainBranch'] == 'I am a developer by profession'\n",
    "employment_filter = df['Employment'] == 'Employed, full-time'\n",
    "\n",
    "# Apply filters using logical AND operation to get filtered data.\n",
    "# 'filtered_data' contains rows that satisfy all three conditions.\n",
    "\n",
    "filtered_data = df[age_filter & employment_filter & main_branch_filter]\n"
   ],
   "metadata": {
    "collapsed": false,
    "ExecuteTime": {
     "end_time": "2023-10-27T17:03:36.851516315Z",
     "start_time": "2023-10-27T17:03:36.833690732Z"
    }
   }
  },
  {
   "cell_type": "code",
   "execution_count": 6,
   "outputs": [
    {
     "data": {
      "text/plain": "               Q120                      MainBranch                 Age  \\\nResponseId                                                                \n2710        I agree           I am learning to code     18-24 years old   \n3150        I agree           I am learning to code     18-24 years old   \n6273        I agree  I am a developer by profession     18-24 years old   \n13925       I agree           I am learning to code     18-24 years old   \n14289       I agree  I am a developer by profession     18-24 years old   \n...             ...                             ...                 ...   \n87981       I agree                   None of these  Under 18 years old   \n88133       I agree                   None of these  Under 18 years old   \n88239       I agree                   None of these  Under 18 years old   \n88610       I agree                   None of these  Under 18 years old   \n88632       I agree                   None of these  Under 18 years old   \n\n                                                   Employment  \\\nResponseId                                                      \n2710        Not employed, but looking for work;Employed, p...   \n3150        Student, part-time;Not employed, and not looki...   \n6273                       Not employed, but looking for work   \n13925                                      Student, full-time   \n14289       Independent contractor, freelancer, or self-em...   \n...                                                       ...   \n87981                                                     NaN   \n88133                                                     NaN   \n88239                                                     NaN   \n88610                                                     NaN   \n88632                                                     NaN   \n\n                                      RemoteWork  \\\nResponseId                                         \n2710        Hybrid (some remote, some in-person)   \n3150                                         NaN   \n6273                                         NaN   \n13925                                        NaN   \n14289                                     Remote   \n...                                          ...   \n87981                                        NaN   \n88133                                        NaN   \n88239                                        NaN   \n88610                                        NaN   \n88632                                        NaN   \n\n                                             CodingActivities  \\\nResponseId                                                      \n2710        Bootstrapping a business;Professional developm...   \n3150                                                      NaN   \n6273                                                      NaN   \n13925                                                     NaN   \n14289       Hobby;Contribute to open-source projects;Schoo...   \n...                                                       ...   \n87981                                                     NaN   \n88133                                                     NaN   \n88239                                                     NaN   \n88610                                                     NaN   \n88632                                                     NaN   \n\n                                                      EdLevel  \\\nResponseId                                                      \n2710                      Associate degree (A.A., A.S., etc.)   \n3150        Secondary school (e.g. American high school, G...   \n6273             Bachelor’s degree (B.A., B.S., B.Eng., etc.)   \n13925       Secondary school (e.g. American high school, G...   \n14289            Bachelor’s degree (B.A., B.S., B.Eng., etc.)   \n...                                                       ...   \n87981                                                     NaN   \n88133                                                     NaN   \n88239                                                     NaN   \n88610                                                     NaN   \n88632                                                     NaN   \n\n                                                    LearnCode  \\\nResponseId                                                      \n2710        Books / Physical media;Other online resources ...   \n3150        Other online resources (e.g., videos, blogs, f...   \n6273        Books / Physical media;Friend or family member...   \n13925       Other online resources (e.g., videos, blogs, f...   \n14289       Books / Physical media;Colleague;Other online ...   \n...                                                       ...   \n87981                                                     NaN   \n88133                                                     NaN   \n88239                                                     NaN   \n88610                                                     NaN   \n88632                                                     NaN   \n\n                                              LearnCodeOnline  \\\nResponseId                                                      \n2710        Blogs with tips and tricks;Video-based Online ...   \n3150        Formal documentation provided by the owner of ...   \n6273                                                      NaN   \n13925       Formal documentation provided by the owner of ...   \n14289       Formal documentation provided by the owner of ...   \n...                                                       ...   \n87981                                                     NaN   \n88133                                                     NaN   \n88239                                                     NaN   \n88610                                                     NaN   \n88632                                                     NaN   \n\n           LearnCodeCoursesCert  ... Frequency_1 Frequency_2 Frequency_3  \\\nResponseId                       ...                                       \n2710                        NaN  ...         NaN         NaN         NaN   \n3150                        NaN  ...         NaN         NaN         NaN   \n6273           Codecademy;Udemy  ...         NaN         NaN         NaN   \n13925                       NaN  ...         NaN         NaN         NaN   \n14289                       NaN  ...         NaN         NaN         NaN   \n...                         ...  ...         ...         ...         ...   \n87981                       NaN  ...         NaN         NaN         NaN   \n88133                       NaN  ...         NaN         NaN         NaN   \n88239                       NaN  ...         NaN         NaN         NaN   \n88610                       NaN  ...         NaN         NaN         NaN   \n88632                       NaN  ...         NaN         NaN         NaN   \n\n           TimeSearching TimeAnswering ProfessionalTech Industry  \\\nResponseId                                                         \n2710                 NaN           NaN              NaN      NaN   \n3150                 NaN           NaN              NaN      NaN   \n6273                 NaN           NaN              NaN      NaN   \n13925                NaN           NaN              NaN      NaN   \n14289                NaN           NaN              NaN      NaN   \n...                  ...           ...              ...      ...   \n87981                NaN           NaN              NaN      NaN   \n88133                NaN           NaN              NaN      NaN   \n88239                NaN           NaN              NaN      NaN   \n88610                NaN           NaN              NaN      NaN   \n88632                NaN           NaN              NaN      NaN   \n\n                     SurveyLength                  SurveyEase  \\\nResponseId                                                      \n2710        Appropriate in length                        Easy   \n3150        Appropriate in length  Neither easy nor difficult   \n6273        Appropriate in length                        Easy   \n13925       Appropriate in length                        Easy   \n14289       Appropriate in length  Neither easy nor difficult   \n...                           ...                         ...   \n87981                         NaN                         NaN   \n88133                         NaN                         NaN   \n88239                         NaN                         NaN   \n88610                         NaN                         NaN   \n88632                         NaN                         NaN   \n\n            ConvertedCompYearly  \nResponseId                       \n2710                        NaN  \n3150                        NaN  \n6273                        NaN  \n13925                       NaN  \n14289                       NaN  \n...                         ...  \n87981                       NaN  \n88133                       NaN  \n88239                       NaN  \n88610                       NaN  \n88632                       NaN  \n\n[89184 rows x 83 columns]",
      "text/html": "<div>\n<style scoped>\n    .dataframe tbody tr th:only-of-type {\n        vertical-align: middle;\n    }\n\n    .dataframe tbody tr th {\n        vertical-align: top;\n    }\n\n    .dataframe thead th {\n        text-align: right;\n    }\n</style>\n<table border=\"1\" class=\"dataframe\">\n  <thead>\n    <tr style=\"text-align: right;\">\n      <th></th>\n      <th>Q120</th>\n      <th>MainBranch</th>\n      <th>Age</th>\n      <th>Employment</th>\n      <th>RemoteWork</th>\n      <th>CodingActivities</th>\n      <th>EdLevel</th>\n      <th>LearnCode</th>\n      <th>LearnCodeOnline</th>\n      <th>LearnCodeCoursesCert</th>\n      <th>...</th>\n      <th>Frequency_1</th>\n      <th>Frequency_2</th>\n      <th>Frequency_3</th>\n      <th>TimeSearching</th>\n      <th>TimeAnswering</th>\n      <th>ProfessionalTech</th>\n      <th>Industry</th>\n      <th>SurveyLength</th>\n      <th>SurveyEase</th>\n      <th>ConvertedCompYearly</th>\n    </tr>\n    <tr>\n      <th>ResponseId</th>\n      <th></th>\n      <th></th>\n      <th></th>\n      <th></th>\n      <th></th>\n      <th></th>\n      <th></th>\n      <th></th>\n      <th></th>\n      <th></th>\n      <th></th>\n      <th></th>\n      <th></th>\n      <th></th>\n      <th></th>\n      <th></th>\n      <th></th>\n      <th></th>\n      <th></th>\n      <th></th>\n      <th></th>\n    </tr>\n  </thead>\n  <tbody>\n    <tr>\n      <th>2710</th>\n      <td>I agree</td>\n      <td>I am learning to code</td>\n      <td>18-24 years old</td>\n      <td>Not employed, but looking for work;Employed, p...</td>\n      <td>Hybrid (some remote, some in-person)</td>\n      <td>Bootstrapping a business;Professional developm...</td>\n      <td>Associate degree (A.A., A.S., etc.)</td>\n      <td>Books / Physical media;Other online resources ...</td>\n      <td>Blogs with tips and tricks;Video-based Online ...</td>\n      <td>NaN</td>\n      <td>...</td>\n      <td>NaN</td>\n      <td>NaN</td>\n      <td>NaN</td>\n      <td>NaN</td>\n      <td>NaN</td>\n      <td>NaN</td>\n      <td>NaN</td>\n      <td>Appropriate in length</td>\n      <td>Easy</td>\n      <td>NaN</td>\n    </tr>\n    <tr>\n      <th>3150</th>\n      <td>I agree</td>\n      <td>I am learning to code</td>\n      <td>18-24 years old</td>\n      <td>Student, part-time;Not employed, and not looki...</td>\n      <td>NaN</td>\n      <td>NaN</td>\n      <td>Secondary school (e.g. American high school, G...</td>\n      <td>Other online resources (e.g., videos, blogs, f...</td>\n      <td>Formal documentation provided by the owner of ...</td>\n      <td>NaN</td>\n      <td>...</td>\n      <td>NaN</td>\n      <td>NaN</td>\n      <td>NaN</td>\n      <td>NaN</td>\n      <td>NaN</td>\n      <td>NaN</td>\n      <td>NaN</td>\n      <td>Appropriate in length</td>\n      <td>Neither easy nor difficult</td>\n      <td>NaN</td>\n    </tr>\n    <tr>\n      <th>6273</th>\n      <td>I agree</td>\n      <td>I am a developer by profession</td>\n      <td>18-24 years old</td>\n      <td>Not employed, but looking for work</td>\n      <td>NaN</td>\n      <td>NaN</td>\n      <td>Bachelor’s degree (B.A., B.S., B.Eng., etc.)</td>\n      <td>Books / Physical media;Friend or family member...</td>\n      <td>NaN</td>\n      <td>Codecademy;Udemy</td>\n      <td>...</td>\n      <td>NaN</td>\n      <td>NaN</td>\n      <td>NaN</td>\n      <td>NaN</td>\n      <td>NaN</td>\n      <td>NaN</td>\n      <td>NaN</td>\n      <td>Appropriate in length</td>\n      <td>Easy</td>\n      <td>NaN</td>\n    </tr>\n    <tr>\n      <th>13925</th>\n      <td>I agree</td>\n      <td>I am learning to code</td>\n      <td>18-24 years old</td>\n      <td>Student, full-time</td>\n      <td>NaN</td>\n      <td>NaN</td>\n      <td>Secondary school (e.g. American high school, G...</td>\n      <td>Other online resources (e.g., videos, blogs, f...</td>\n      <td>Formal documentation provided by the owner of ...</td>\n      <td>NaN</td>\n      <td>...</td>\n      <td>NaN</td>\n      <td>NaN</td>\n      <td>NaN</td>\n      <td>NaN</td>\n      <td>NaN</td>\n      <td>NaN</td>\n      <td>NaN</td>\n      <td>Appropriate in length</td>\n      <td>Easy</td>\n      <td>NaN</td>\n    </tr>\n    <tr>\n      <th>14289</th>\n      <td>I agree</td>\n      <td>I am a developer by profession</td>\n      <td>18-24 years old</td>\n      <td>Independent contractor, freelancer, or self-em...</td>\n      <td>Remote</td>\n      <td>Hobby;Contribute to open-source projects;Schoo...</td>\n      <td>Bachelor’s degree (B.A., B.S., B.Eng., etc.)</td>\n      <td>Books / Physical media;Colleague;Other online ...</td>\n      <td>Formal documentation provided by the owner of ...</td>\n      <td>NaN</td>\n      <td>...</td>\n      <td>NaN</td>\n      <td>NaN</td>\n      <td>NaN</td>\n      <td>NaN</td>\n      <td>NaN</td>\n      <td>NaN</td>\n      <td>NaN</td>\n      <td>Appropriate in length</td>\n      <td>Neither easy nor difficult</td>\n      <td>NaN</td>\n    </tr>\n    <tr>\n      <th>...</th>\n      <td>...</td>\n      <td>...</td>\n      <td>...</td>\n      <td>...</td>\n      <td>...</td>\n      <td>...</td>\n      <td>...</td>\n      <td>...</td>\n      <td>...</td>\n      <td>...</td>\n      <td>...</td>\n      <td>...</td>\n      <td>...</td>\n      <td>...</td>\n      <td>...</td>\n      <td>...</td>\n      <td>...</td>\n      <td>...</td>\n      <td>...</td>\n      <td>...</td>\n      <td>...</td>\n    </tr>\n    <tr>\n      <th>87981</th>\n      <td>I agree</td>\n      <td>None of these</td>\n      <td>Under 18 years old</td>\n      <td>NaN</td>\n      <td>NaN</td>\n      <td>NaN</td>\n      <td>NaN</td>\n      <td>NaN</td>\n      <td>NaN</td>\n      <td>NaN</td>\n      <td>...</td>\n      <td>NaN</td>\n      <td>NaN</td>\n      <td>NaN</td>\n      <td>NaN</td>\n      <td>NaN</td>\n      <td>NaN</td>\n      <td>NaN</td>\n      <td>NaN</td>\n      <td>NaN</td>\n      <td>NaN</td>\n    </tr>\n    <tr>\n      <th>88133</th>\n      <td>I agree</td>\n      <td>None of these</td>\n      <td>Under 18 years old</td>\n      <td>NaN</td>\n      <td>NaN</td>\n      <td>NaN</td>\n      <td>NaN</td>\n      <td>NaN</td>\n      <td>NaN</td>\n      <td>NaN</td>\n      <td>...</td>\n      <td>NaN</td>\n      <td>NaN</td>\n      <td>NaN</td>\n      <td>NaN</td>\n      <td>NaN</td>\n      <td>NaN</td>\n      <td>NaN</td>\n      <td>NaN</td>\n      <td>NaN</td>\n      <td>NaN</td>\n    </tr>\n    <tr>\n      <th>88239</th>\n      <td>I agree</td>\n      <td>None of these</td>\n      <td>Under 18 years old</td>\n      <td>NaN</td>\n      <td>NaN</td>\n      <td>NaN</td>\n      <td>NaN</td>\n      <td>NaN</td>\n      <td>NaN</td>\n      <td>NaN</td>\n      <td>...</td>\n      <td>NaN</td>\n      <td>NaN</td>\n      <td>NaN</td>\n      <td>NaN</td>\n      <td>NaN</td>\n      <td>NaN</td>\n      <td>NaN</td>\n      <td>NaN</td>\n      <td>NaN</td>\n      <td>NaN</td>\n    </tr>\n    <tr>\n      <th>88610</th>\n      <td>I agree</td>\n      <td>None of these</td>\n      <td>Under 18 years old</td>\n      <td>NaN</td>\n      <td>NaN</td>\n      <td>NaN</td>\n      <td>NaN</td>\n      <td>NaN</td>\n      <td>NaN</td>\n      <td>NaN</td>\n      <td>...</td>\n      <td>NaN</td>\n      <td>NaN</td>\n      <td>NaN</td>\n      <td>NaN</td>\n      <td>NaN</td>\n      <td>NaN</td>\n      <td>NaN</td>\n      <td>NaN</td>\n      <td>NaN</td>\n      <td>NaN</td>\n    </tr>\n    <tr>\n      <th>88632</th>\n      <td>I agree</td>\n      <td>None of these</td>\n      <td>Under 18 years old</td>\n      <td>NaN</td>\n      <td>NaN</td>\n      <td>NaN</td>\n      <td>NaN</td>\n      <td>NaN</td>\n      <td>NaN</td>\n      <td>NaN</td>\n      <td>...</td>\n      <td>NaN</td>\n      <td>NaN</td>\n      <td>NaN</td>\n      <td>NaN</td>\n      <td>NaN</td>\n      <td>NaN</td>\n      <td>NaN</td>\n      <td>NaN</td>\n      <td>NaN</td>\n      <td>NaN</td>\n    </tr>\n  </tbody>\n</table>\n<p>89184 rows × 83 columns</p>\n</div>"
     },
     "execution_count": 6,
     "metadata": {},
     "output_type": "execute_result"
    }
   ],
   "source": [
    "# Sort the DataFrame 'df' based on two columns: 'Age' in ascending order and 'Country' in descending order.\n",
    "# 'sorted_data' will contain the sorted DataFrame.\n",
    "\n",
    "sorted_data = df.sort_values(by=['Age', 'Country'], ascending=[True, False])\n",
    "\n",
    "sorted_data\n"
   ],
   "metadata": {
    "collapsed": false,
    "ExecuteTime": {
     "end_time": "2023-10-27T17:03:38.049581701Z",
     "start_time": "2023-10-27T17:03:37.911030219Z"
    }
   }
  },
  {
   "cell_type": "code",
   "execution_count": 7,
   "outputs": [
    {
     "name": "stdout",
     "output_type": "stream",
     "text": [
      "29.12674818279146\n",
      "10.55353168078226\n",
      "25.0\n",
      "18.0\n",
      "65.0\n"
     ]
    }
   ],
   "source": [
    "# Define a function 'extract_age' that takes an age string as input and extracts the numerical age using regular expression.\n",
    "# If the age is successfully extracted, return it as an integer. Otherwise, return None.\n",
    "from typing import Optional\n",
    "import re\n",
    "\n",
    "def extract_age(age_string) -> Optional[int]:\n",
    "    age_match = re.search(r'\\d+', age_string)\n",
    "    if age_match:\n",
    "        return int(age_match.group())\n",
    "    return None\n",
    "\n",
    "# Apply the 'extract_age' function to the 'Age' column of the DataFrame 'df' and replace it with the extracted numerical age.\n",
    "df['Age'] = df['Age'].apply(extract_age)\n",
    "\n",
    "# Drop rows with missing age values.\n",
    "df = df.dropna(subset=['Age'])\n",
    "\n",
    "# Calculate statistical measures for the 'Age' column.\n",
    "mean_age = df['Age'].mean()\n",
    "std_dev_age = df['Age'].std()\n",
    "median_age = df['Age'].median()\n",
    "min_age = df['Age'].min()\n",
    "max_age = df['Age'].max()\n",
    "\n",
    "# Print the calculated statistics.\n",
    "print(mean_age)\n",
    "print(std_dev_age)\n",
    "print(median_age)\n",
    "print(min_age)\n",
    "print(max_age)\n"
   ],
   "metadata": {
    "collapsed": false,
    "ExecuteTime": {
     "end_time": "2023-10-27T17:03:39.177663634Z",
     "start_time": "2023-10-27T17:03:39.077088478Z"
    }
   }
  },
  {
   "cell_type": "code",
   "execution_count": 118,
   "outputs": [],
   "source": [
    "\n"
   ],
   "metadata": {
    "collapsed": false,
    "ExecuteTime": {
     "end_time": "2023-10-23T19:06:25.956875487Z",
     "start_time": "2023-10-23T19:06:25.909426355Z"
    }
   }
  },
  {
   "cell_type": "code",
   "execution_count": null,
   "outputs": [],
   "source": [],
   "metadata": {
    "collapsed": false
   }
  },
  {
   "cell_type": "code",
   "execution_count": null,
   "outputs": [],
   "source": [],
   "metadata": {
    "collapsed": false
   }
  }
 ],
 "metadata": {
  "kernelspec": {
   "display_name": "Python 3",
   "language": "python",
   "name": "python3"
  },
  "language_info": {
   "codemirror_mode": {
    "name": "ipython",
    "version": 2
   },
   "file_extension": ".py",
   "mimetype": "text/x-python",
   "name": "python",
   "nbconvert_exporter": "python",
   "pygments_lexer": "ipython2",
   "version": "2.7.6"
  }
 },
 "nbformat": 4,
 "nbformat_minor": 0
}
